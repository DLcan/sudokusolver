{
 "cells": [
  {
   "cell_type": "markdown",
   "metadata": {},
   "source": [
    "# Sudoku"
   ]
  },
  {
   "cell_type": "code",
   "execution_count": 1,
   "metadata": {
    "collapsed": false,
    "scrolled": true
   },
   "outputs": [],
   "source": [
    "import numpy as np\n",
    "import csv"
   ]
  },
  {
   "cell_type": "code",
   "execution_count": 2,
   "metadata": {
    "collapsed": false,
    "scrolled": true
   },
   "outputs": [],
   "source": [
    "sudoku = np.genfromtxt('../Data/sudoku/sudoku.csv',dtype='int', delimiter=',')\n",
    "sefer = 0\n"
   ]
  },
  {
   "cell_type": "code",
   "execution_count": 3,
   "metadata": {
    "collapsed": false,
    "scrolled": true
   },
   "outputs": [
    {
     "data": {
      "text/plain": [
       "array([[2, 0, 8, 5, 0, 0, 0, 0, 0],\n",
       "       [0, 0, 0, 0, 3, 0, 0, 2, 0],\n",
       "       [0, 5, 0, 6, 0, 0, 4, 0, 7],\n",
       "       [6, 1, 9, 0, 0, 0, 8, 3, 0],\n",
       "       [0, 0, 0, 8, 9, 2, 0, 0, 0],\n",
       "       [0, 2, 4, 0, 0, 0, 7, 5, 9],\n",
       "       [7, 0, 5, 0, 0, 9, 0, 1, 0],\n",
       "       [0, 4, 0, 0, 7, 0, 0, 0, 0],\n",
       "       [0, 0, 0, 0, 0, 5, 2, 0, 3]])"
      ]
     },
     "execution_count": 3,
     "metadata": {},
     "output_type": "execute_result"
    }
   ],
   "source": [
    "#su = pd.DataFrame(sudoku)\n",
    "su = np.array(sudoku)\n",
    "su"
   ]
  },
  {
   "cell_type": "code",
   "execution_count": 4,
   "metadata": {
    "collapsed": true
   },
   "outputs": [],
   "source": [
    "kalabalık_hücre = [[0,0,0],\n",
    "                   [0,0,0],\n",
    "                   [0,0,0]]\n",
    "k_hücre  = np.array(kalabalık_hücre)"
   ]
  },
  {
   "cell_type": "code",
   "execution_count": 5,
   "metadata": {
    "collapsed": false,
    "scrolled": true
   },
   "outputs": [],
   "source": [
    "#s sayılar\n",
    "s=[1,2,3,4,5,6,7,8,9]\n"
   ]
  },
  {
   "cell_type": "code",
   "execution_count": 6,
   "metadata": {
    "collapsed": false,
    "scrolled": true
   },
   "outputs": [],
   "source": [
    "ola_ki = [[0,0,0,0,0,0,0,0,0],\n",
    "          [0,0,0,0,0,0,0,0,0],\n",
    "          [0,0,0,0,0,0,0,0,0],\n",
    "          [0,0,0,0,0,0,0,0,0],\n",
    "          [0,0,0,0,0,0,0,0,0],\n",
    "          [0,0,0,0,0,0,0,0,0],\n",
    "          [0,0,0,0,0,0,0,0,0],\n",
    "          [0,0,0,0,0,0,0,0,0],\n",
    "          [0,0,0,0,0,0,0,0,0]]\n",
    "\n",
    "ola = np.array((ola_ki),dtype =set) "
   ]
  },
  {
   "cell_type": "code",
   "execution_count": 7,
   "metadata": {
    "collapsed": false,
    "scrolled": true
   },
   "outputs": [
    {
     "data": {
      "text/plain": [
       "array([[0, 0, 0, 0, 0, 0, 0, 0, 0],\n",
       "       [0, 0, 0, 0, 0, 0, 0, 0, 0],\n",
       "       [0, 0, 0, 0, 0, 0, 0, 0, 0],\n",
       "       [0, 0, 0, 0, 0, 0, 0, 0, 0],\n",
       "       [0, 0, 0, 0, 0, 0, 0, 0, 0],\n",
       "       [0, 0, 0, 0, 0, 0, 0, 0, 0],\n",
       "       [0, 0, 0, 0, 0, 0, 0, 0, 0],\n",
       "       [0, 0, 0, 0, 0, 0, 0, 0, 0],\n",
       "       [0, 0, 0, 0, 0, 0, 0, 0, 0]], dtype=object)"
      ]
     },
     "execution_count": 7,
     "metadata": {},
     "output_type": "execute_result"
    }
   ],
   "source": [
    "ola"
   ]
  },
  {
   "cell_type": "code",
   "execution_count": 8,
   "metadata": {
    "collapsed": false,
    "scrolled": true
   },
   "outputs": [
    {
     "data": {
      "text/plain": [
       "array([[2, 0, 8, 5, 0, 0, 0, 0, 0],\n",
       "       [0, 0, 0, 0, 3, 0, 0, 2, 0],\n",
       "       [0, 5, 0, 6, 0, 0, 4, 0, 7],\n",
       "       [6, 1, 9, 0, 0, 0, 8, 3, 0],\n",
       "       [0, 0, 0, 8, 9, 2, 0, 0, 0],\n",
       "       [0, 2, 4, 0, 0, 0, 7, 5, 9],\n",
       "       [7, 0, 5, 0, 0, 9, 0, 1, 0],\n",
       "       [0, 4, 0, 0, 7, 0, 0, 0, 0],\n",
       "       [0, 0, 0, 0, 0, 5, 2, 0, 3]])"
      ]
     },
     "execution_count": 8,
     "metadata": {},
     "output_type": "execute_result"
    }
   ],
   "source": [
    "su"
   ]
  },
  {
   "cell_type": "code",
   "execution_count": 9,
   "metadata": {
    "collapsed": true,
    "scrolled": true
   },
   "outputs": [],
   "source": [
    "#satırda kaç sıfır olduğu ve eksik sayılar\n",
    "def satırdaki_eksik_sayı(satır):\n",
    "    su_satırı_list = su[satır,:]\n",
    "    c_yeri=[]\n",
    "    c_eksik=[]\n",
    "    sıfır = 0\n",
    "    for k in s:\n",
    "        if k in su_satırı_list:\n",
    "            sıfır=sıfır #boşlaf\n",
    "        else:\n",
    "            for sat in range(9):\n",
    "                if su_satırı_list[sat]==0:\n",
    "                    c_yeri.append(sat)\n",
    "            c_eksik.append(k)\n",
    "            sıfır+=1\n",
    "    return sıfır , c_eksik ,c_yeri"
   ]
  },
  {
   "cell_type": "code",
   "execution_count": 10,
   "metadata": {
    "collapsed": true,
    "scrolled": true
   },
   "outputs": [],
   "source": [
    "#kolonda kaç sıfır olduğu ve eksik sayılar\n",
    "def kolondaki_eksik_sayı(kolon):\n",
    "    su_kolonu_list = su[:,kolon]\n",
    "    c_yeri=[]\n",
    "    c_eksik=[]\n",
    "    sıfır = 0\n",
    "    for k in s:\n",
    "        if k in su_kolonu_list:\n",
    "            sıfır=sıfır #boşlaf\n",
    "        else:\n",
    "            for kol in range(9):\n",
    "                if su_kolonu_list[kol]==0:\n",
    "                    c_yeri.append(kol)\n",
    "            c_eksik.append(k)\n",
    "            sıfır+=1\n",
    "    return sıfır , c_eksik , c_yeri"
   ]
  },
  {
   "cell_type": "markdown",
   "metadata": {},
   "source": [
    "# Durum"
   ]
  },
  {
   "cell_type": "code",
   "execution_count": 11,
   "metadata": {
    "collapsed": false,
    "scrolled": true
   },
   "outputs": [],
   "source": [
    "durum = np.zeros((9,9,9))#durum[sayı,x,y]\n"
   ]
  },
  {
   "cell_type": "code",
   "execution_count": 12,
   "metadata": {
    "collapsed": true,
    "scrolled": true
   },
   "outputs": [],
   "source": [
    "# durum init hepsi 2\n",
    "#durum[sayı,x,y]\n",
    "durum[:,:,:]=2\n"
   ]
  },
  {
   "cell_type": "code",
   "execution_count": 13,
   "metadata": {
    "collapsed": false,
    "scrolled": true
   },
   "outputs": [],
   "source": [
    "def satır_kolon_tazele(sayı,x,y):\n",
    "    for say in s:\n",
    "        if say==sayı:\n",
    "            durum[sayı-1,:,y]=0\n",
    "            durum[sayı-1,x,:]=0\n",
    "            durum[sayı-1,x,y]=1\n",
    "        else:\n",
    "            durum[say-1,x,y]=0\n",
    "    return "
   ]
  },
  {
   "cell_type": "code",
   "execution_count": 14,
   "metadata": {
    "collapsed": true,
    "scrolled": true
   },
   "outputs": [],
   "source": [
    "#ilk girilen sudokunun durum tazelemesi\n",
    "#(hangi sayı varsa onun olduğu yer 1, olamayacağı yerler 0)\n",
    "def durum_tazele():    \n",
    "    for satır in range(9):\n",
    "        for kolon in range(9):\n",
    "            if su[satır,kolon]>0:\n",
    "                dummy_sayı = su[satır,kolon]\n",
    "                satır_kolon_tazele(dummy_sayı,satır,kolon)\n",
    "    return        "
   ]
  },
  {
   "cell_type": "code",
   "execution_count": 15,
   "metadata": {
    "collapsed": true,
    "scrolled": true
   },
   "outputs": [],
   "source": [
    "durum_tazele()"
   ]
  },
  {
   "cell_type": "code",
   "execution_count": 16,
   "metadata": {
    "collapsed": false,
    "scrolled": true
   },
   "outputs": [],
   "source": [
    "def d(sayı): \n",
    "    return (durum[sayı-1,:,:])\n",
    "    "
   ]
  },
  {
   "cell_type": "markdown",
   "metadata": {
    "collapsed": false
   },
   "source": [
    "# Hücre"
   ]
  },
  {
   "cell_type": "code",
   "execution_count": 17,
   "metadata": {
    "collapsed": false,
    "scrolled": true
   },
   "outputs": [],
   "source": [
    "def hücreyi_bil(x,y):\n",
    "    if x in range(0,3):x1=0    \n",
    "    if x in range(3,6):x1=3\n",
    "    if x in range(6,9):x1=6  \n",
    "    if y in range(0,3):y1=0\n",
    "    if y in range(3,6):y1=3\n",
    "    if y in range(6,9):y1=6  \n",
    "    \n",
    "    #hücre = durum[sayı-1:sayı,x1:x1+3,y1:y1+3]\n",
    "    \n",
    "    return x1,y1"
   ]
  },
  {
   "cell_type": "code",
   "execution_count": 18,
   "metadata": {
    "collapsed": true,
    "scrolled": true
   },
   "outputs": [],
   "source": [
    "def yer_uygunsa_suya_ekle(sayı,x,y):\n",
    "    x1,y1 = hücreyi_bil(x,y)\n",
    "    if  (su[x,y]==0)and (sayı not in su[:,y]) and (sayı not in su[x,:]) and  (sayı not in su[x1:x1+3,y1:y1+3]):\n",
    "            su[x,y]=sayı  #eklendi\n",
    "            durum_tazele()\n",
    "        #else:\n",
    "        #print(str(sayı)+\" satır \"+str(x)+\" , kolon \"+str(y)+\" \"+\"için uygun değil\")\n",
    "    return\n",
    "    "
   ]
  },
  {
   "cell_type": "code",
   "execution_count": 19,
   "metadata": {
    "collapsed": false,
    "scrolled": true
   },
   "outputs": [],
   "source": [
    "#durumdan bir sayı bulup suya eklemenin parçası\n",
    "def  durumu_4_olanı_suya_ekle(): \n",
    "    for sayı in s:\n",
    "        for xx in range(9):\n",
    "             for yy in range(9):\n",
    "                if  durum[sayı-1,xx,yy]==4:\n",
    "                        \n",
    "                        su[xx,yy]=sayı \n",
    "                        durum[sayı-1,xx,yy]=1\n",
    "    durum_tazele()             \n",
    "  "
   ]
  },
  {
   "cell_type": "code",
   "execution_count": 20,
   "metadata": {
    "collapsed": true,
    "scrolled": true
   },
   "outputs": [],
   "source": [
    "#bir hücrede \"sayı\" varsa o sayının hücresel durumunda 2 olan nokta olamaz \n",
    "def hücre_durum_tazele(sayı):\n",
    "    for x1 in [0,3,6]:\n",
    "        for y1 in [0,3,6]:\n",
    "            #x1,y1=hücreyi_bil(x2,y2)\n",
    "            a=durum[sayı-1:sayı,x1:x1+3,y1:y1+3].sum()\n",
    "            hücre = durum[sayı-1:sayı,x1:x1+3,y1:y1+3]\n",
    "            \n",
    "            if a>1 and a%2!=0:\n",
    "                hücre[hücre==2]=0\n",
    "            if a==2 :\n",
    "                hücre[hücre==2]=4\n",
    "    durumu_4_olanı_suya_ekle()\n",
    "    return"
   ]
  },
  {
   "cell_type": "code",
   "execution_count": 21,
   "metadata": {
    "collapsed": false
   },
   "outputs": [],
   "source": [
    "def en_kalabalık_hücreyi_bul():\n",
    "    a = []\n",
    "    xy = []\n",
    "    for x1 in [0,3,6]:\n",
    "        for y1 in [0,3,6]:\n",
    "            yer=[x1,y1]\n",
    "            xy.append(yer) \n",
    "            #if cell is full to ignore it: we append 0\n",
    "            if su[x1:x1+3,y1:y1+3].sum()==45:\n",
    "                a.append(0)\n",
    "            else:    \n",
    "                a.append(su[x1:x1+3,y1:y1+3].sum()    )\n",
    "    maxy=np.argmax(a) \n",
    "    return xy[maxy]"
   ]
  },
  {
   "cell_type": "code",
   "execution_count": 22,
   "metadata": {
    "collapsed": false,
    "scrolled": true
   },
   "outputs": [],
   "source": [
    "hücre_durum_tazele(1)"
   ]
  },
  {
   "cell_type": "code",
   "execution_count": 23,
   "metadata": {
    "collapsed": false,
    "scrolled": true
   },
   "outputs": [],
   "source": [
    "def kaç_tane_çıktı(sayı):\n",
    "    c=durum[sayı-1,:,:]\n",
    "    kaç = c[c==1].sum()\n",
    "    #print(sayı,kaç )\n",
    "    return kaç\n",
    "    "
   ]
  },
  {
   "cell_type": "code",
   "execution_count": 24,
   "metadata": {
    "collapsed": true,
    "scrolled": true
   },
   "outputs": [],
   "source": [
    "def sudaki_boşu_olan_satırlara_sayı_bul():\n",
    "    #satırlarda boşluk buluyor\n",
    "    \n",
    "    for rr in range(9):\n",
    "        sıfı=0\n",
    "        eksik=[]\n",
    "        yer=[]\n",
    "        sıfı,eksik,yer=satırdaki_eksik_sayı(rr)\n",
    "        if sıfı==0:\n",
    "            return\n",
    "        for t in range(sıfı):\n",
    "            if sıfı==1:            \n",
    "                #su[rr,yer[0]]=eksik[0]\n",
    "                yer_uygunsa_suya_ekle(eksik[0],rr,yer[0])\n",
    "            if sıfı==2:\n",
    "                if eksik[0]in su[:,yer[0]]:\n",
    "                    #diğeri konuyor                \n",
    "                    #su[rr,yer[0]]=eksik[1] \n",
    "                    yer_uygunsa_suya_ekle(eksik[1],rr,yer[0])\n",
    "                    #su[rr,yer[1]]=eksik[0]\n",
    "                    yer_uygunsa_suya_ekle(eksik[0],rr,yer[1])\n",
    "                    \n",
    "                elif eksik[0]in su[:,yer[1]]:\n",
    "                    #diğeri konuyor                \n",
    "                    #su[rr,yer[0]]=eksik[0] \n",
    "                    yer_uygunsa_suya_ekle(eksik[0],rr,yer[0])\n",
    "                    #su[rr,yer[1]]=eksik[1]\n",
    "                    yer_uygunsa_suya_ekle(eksik[1] ,rr,yer[1])\n",
    "            if sıfı==3:\n",
    "                #print(sıfı,eksik,yer,eksik[0],yer[2],rr,su[:,yer[0]],su[:,yer[1]],su[:yer[2]])\n",
    "                if (eksik[0] in su[:,yer[0]])and (eksik[0] in su[:,yer[1]])and (eksik[0]not in su[:,yer[2]]):\n",
    "                    yer_uygunsa_suya_ekle(eksik[0],rr,yer[2])   \n",
    "                if (eksik[0] in su[:,yer[0]])and (eksik[0]not in su[:,yer[1]])and (eksik[0] in su[:,yer[2]]):\n",
    "                    yer_uygunsa_suya_ekle(eksik[0],rr,yer[1])   \n",
    "                if (eksik[0]not in su[:,yer[0]])and (eksik[0] in su[:,yer[1]])and (eksik[0] in su[:,yer[2]]):\n",
    "                    yer_uygunsa_suya_ekle(eksik[0],rr,yer[0]) \n",
    "                    \n",
    "                if (eksik[1] in su[:,yer[0]])and (eksik[1] in su[:,yer[1]])and (eksik[1]not in su[:,yer[2]]):\n",
    "                    yer_uygunsa_suya_ekle(eksik[1],rr,yer[2])   \n",
    "                if (eksik[1] in su[:,yer[0]])and (eksik[1]not in su[:,yer[1]])and (eksik[1] in su[:,yer[2]]):\n",
    "                    yer_uygunsa_suya_ekle(eksik[1],rr,yer[1])   \n",
    "                if (eksik[1]not in su[:,yer[0]])and (eksik[1] in su[:,yer[1]])and (eksik[1] in su[:,yer[2]]):\n",
    "                    yer_uygunsa_suya_ekle(eksik[1],rr,yer[0])   \n",
    "\n",
    "                if (eksik[2] in su[:,yer[0]])and (eksik[2] in su[:,yer[1]])and (eksik[2]not in su[:,yer[2]]):\n",
    "                    yer_uygunsa_suya_ekle(eksik[2],rr,yer[2])   \n",
    "                if (eksik[2] in su[:,yer[0]])and (eksik[2]not in su[:,yer[1]])and (eksik[2] in su[:,yer[2]]):\n",
    "                    yer_uygunsa_suya_ekle(eksik[2],rr,yer[1])   \n",
    "                if (eksik[2]not in su[:,yer[0]])and (eksik[2] in su[:,yer[1]])and (eksik[2] in su[:,yer[2]]):\n",
    "                    yer_uygunsa_suya_ekle(eksik[2],rr,yer[0])   \n",
    "\n",
    "            if sıfı>3:\n",
    "                olabileceği_yerler=np.zeros((sıfı))\n",
    "                for eks1 in range(sıfı):\n",
    "                    olabileceği_yerler_toplamı=0      #olabileceği yerlerin sayısı\n",
    "                    for eks2 in range(sıfı):\n",
    "                        if eksik[eks1] in su[:,yer[eks2]]:\n",
    "                            olabileceği_yerler[eks2]=0   \n",
    "                        else:    \n",
    "                            olabileceği_yerler[eks2]=1    \n",
    "                            olabileceği_yerler_toplamı+=1\n",
    "                            tek_yer=yer[eks2]\n",
    "                    if olabileceği_yerler_toplamı==1 : \n",
    "                        \n",
    "                        yer_uygunsa_suya_ekle(eksik[eks1],rr,tek_yer)\n",
    "                        #print(eksik[eks1],tek_yer,yer[tek_yer],rr)\n",
    "            \n",
    "              \n",
    "    durum_tazele()"
   ]
  },
  {
   "cell_type": "code",
   "execution_count": 25,
   "metadata": {
    "collapsed": true,
    "scrolled": true
   },
   "outputs": [],
   "source": [
    "def sudaki_boşu_olan_kolonlara_sayı_bul():\n",
    "    #kolonlardaki boşluklara sayı buluyor\n",
    "\n",
    "    for rr in range(9):\n",
    "        sıfı=0\n",
    "        eksik=[]\n",
    "        yer=[]\n",
    "        sıfı,eksik,yer=kolondaki_eksik_sayı(rr)\n",
    "        if sıfı==0:\n",
    "            return\n",
    "        \n",
    "        for t in range(sıfı):\n",
    "            if sıfı==1:            \n",
    "                #su[yer[0],rr]=eksik[0]\n",
    "                yer_uygunsa_suya_ekle(eksik[0],yer[0],rr)\n",
    "            if sıfı==2:\n",
    "                if eksik[0]in su[yer[0],:]:\n",
    "                    #diğeri konuyor                \n",
    "                    #su[yer[0],rr]=eksik[1] \n",
    "                    yer_uygunsa_suya_ekle(eksik[1],yer[0],rr)\n",
    "                    #su[yer[1],rr]=eksik[0]\n",
    "                    yer_uygunsa_suya_ekle(eksik[0],yer[1],rr)\n",
    "                    \n",
    "                elif eksik[0]in su[yer[1],:]:\n",
    "                    #diğeri konuyor                \n",
    "                    #su[yer[0],rr]=eksik[0]\n",
    "                    yer_uygunsa_suya_ekle(eksik[0],yer[0],rr)\n",
    "                    #su[yer[1],rr]=eksik[1]\n",
    "                    yer_uygunsa_suya_ekle(eksik[1],yer[1],rr)\n",
    "            if sıfı==3:\n",
    "                if (eksik[0] in su[yer[0],:])and (eksik[0] in su[yer[1],:])and (eksik[0]not in su[yer[2],:]):\n",
    "                    yer_uygunsa_suya_ekle(eksik[0],yer[2],rr)   \n",
    "                if (eksik[0] in su[yer[0],:])and (eksik[0]not in su[yer[1],:])and (eksik[0] in su[yer[2],:]):\n",
    "                    yer_uygunsa_suya_ekle(eksik[0],yer[1],rr)   \n",
    "                if (eksik[0]not in su[yer[0],:])and (eksik[0] in su[yer[1],:])and (eksik[0] in su[yer[2],:]):\n",
    "                    yer_uygunsa_suya_ekle(eksik[0],yer[0],rr) \n",
    "                    \n",
    "                if (eksik[1] in su[yer[0],:])and (eksik[1] in su[yer[1],:])and (eksik[1]not in su[yer[2],:]):\n",
    "                    yer_uygunsa_suya_ekle(eksik[1],yer[2],rr)   \n",
    "                if (eksik[1] in su[yer[0],:])and (eksik[1]not in su[yer[1],:])and (eksik[1] in su[yer[2],:]):\n",
    "                    yer_uygunsa_suya_ekle(eksik[1],yer[1],rr)   \n",
    "                if (eksik[1]not in su[yer[0],:])and (eksik[1] in su[yer[1],:])and (eksik[1] in su[yer[2],:]):\n",
    "                    yer_uygunsa_suya_ekle(eksik[1],yer[0],rr)   \n",
    "\n",
    "                if (eksik[2] in su[yer[0],:])and (eksik[2] in su[yer[1],:])and (eksik[2]not in su[yer[2],:]):\n",
    "                    yer_uygunsa_suya_ekle(eksik[2],yer[2],rr)   \n",
    "                if (eksik[2] in su[yer[0],:])and (eksik[2]not in su[yer[1],:])and (eksik[2] in su[yer[2],:]):\n",
    "                    yer_uygunsa_suya_ekle(eksik[2],yer[1],rr)   \n",
    "                if (eksik[2]not in su[yer[0],:])and (eksik[2] in su[yer[1],:])and (eksik[2] in su[yer[2],:]):\n",
    "                    yer_uygunsa_suya_ekle(eksik[2],yer[0],rr)   \n",
    "\n",
    "            if sıfı>3:\n",
    "                olabileceği_yerler=np.zeros((sıfı))\n",
    "                for eks1 in range(sıfı):\n",
    "                    olabileceği_yerler_toplamı=0      #olabileceği yerlerin sayısı\n",
    "                    for eks2 in range(sıfı):\n",
    "                        if eksik[eks1] in su[yer[eks2],:]:\n",
    "                            olabileceği_yerler[eks2]=0   \n",
    "                        else:    \n",
    "                            olabileceği_yerler[eks2]=1   \n",
    "                            olabileceği_yerler_toplamı+=1\n",
    "                            tek_yer=yer[eks2]\n",
    "                    if olabileceği_yerler_toplamı==1 : \n",
    "                        \n",
    "                        yer_uygunsa_suya_ekle(eksik[eks1],tek_yer,rr)\n",
    "                        \n",
    "\n",
    "    durum_tazele()"
   ]
  },
  {
   "cell_type": "markdown",
   "metadata": {},
   "source": [
    "# Ola"
   ]
  },
  {
   "cell_type": "code",
   "execution_count": 26,
   "metadata": {
    "collapsed": true
   },
   "outputs": [],
   "source": [
    "log_text=[[],[],[],[]]#xy,ola[xy],seçilen sayı,yer\n",
    "log=[log_text]"
   ]
  },
  {
   "cell_type": "code",
   "execution_count": 27,
   "metadata": {
    "collapsed": false
   },
   "outputs": [],
   "source": [
    "def oladan_seç_suya_ekle():\n",
    "    global sefer\n",
    "    global en_küçük_ola_set_item\n",
    "    global log_text, log\n",
    "    \n",
    "    found =0\n",
    "    en_küçük_ola_set_item = 1\n",
    "        \n",
    "    xy=en_kalabalık_hücreyi_bul()  \n",
    "    log_text[0]=xy\n",
    "    \n",
    "\n",
    "    while  found==0 or en_küçük_ola_set_item>9:        \n",
    "        #hücreyle sınırlı for loop\n",
    "        for xx in (0,1,2):\n",
    "            x=xy[0]\n",
    "            x+=xx\n",
    "            for yy in (0,1,2):\n",
    "                y=xy[1]\n",
    "                y+=yy\n",
    "                #sıfır olmamalı yoksa len olay çıkarıyor\n",
    "                if ola[x,y]!=0 and su[x,y]==0:\n",
    "                    if len(ola[x,y]) == en_küçük_ola_set_item:\n",
    "                        sayı=ola[x,y][0]   \n",
    "                        yer_uygunsa_suya_ekle(sayı,x,y)\n",
    "                        found+=1\n",
    "                        sefer+=1\n",
    "                        log=[]\n",
    "                        log_text[1]=ola[x,y]\n",
    "                        log_text[2]=ola[x,y][0]\n",
    "                        log_text[3]=[x,y]\n",
    "                        log.append(log_text)\n",
    "                        ola[x,y]=ola[x,y][1::] #kullandığımız sayıyı kaldırıyoruz\n",
    "                        \n",
    "                        return \n",
    "        if found==0: \n",
    "            log.append(log_text)\n",
    "            en_küçük_ola_set_item+=1\n",
    "            sefer=0\n",
    "        #while buluncaya kadar    \n",
    "    return           "
   ]
  },
  {
   "cell_type": "code",
   "execution_count": 28,
   "metadata": {
    "collapsed": false,
    "scrolled": true
   },
   "outputs": [],
   "source": [
    "def ola_lar():\n",
    "    for x in range(9):\n",
    "        for y in range(9):\n",
    "            ola_set=[]\n",
    "            ola_set_boyu=0\n",
    "            #print(x,y,su[x,y],ola[x,y])\n",
    "            \n",
    "            if su[x,y]==0:\n",
    "                for say in s:\n",
    "                    tek_sayı=0\n",
    "                    x1,y1=hücreyi_bil(x,y)\n",
    "                    hücre = su[x1:x1+3,y1:y1+3]\n",
    "                    if (say not in su[x,:])and(say not in su[:,y])and(say not in hücre):\n",
    "                        ola_set.append(say)\n",
    "                        ola[x,y]=ola_set\n",
    "                        ola_set_boyu+=1\n",
    "                                               \n",
    "                if ola_set_boyu==1 :\n",
    "                    #print(tek_sayı,ola_set,ola[x,y],x,y)\n",
    "                    ola[x,y]=0\n",
    "                    tek_sayı=ola_set.pop()\n",
    "                    yer_uygunsa_suya_ekle(tek_sayı,x,y)                    \n",
    "    return  "
   ]
  },
  {
   "cell_type": "markdown",
   "metadata": {},
   "source": [
    "# Çalış"
   ]
  },
  {
   "cell_type": "code",
   "execution_count": 29,
   "metadata": {
    "collapsed": true,
    "scrolled": true
   },
   "outputs": [],
   "source": [
    "def çalış(kez):\n",
    "       \n",
    "    for do in range (kez):\n",
    "        durum_tazele()\n",
    "        sudaki_boşu_olan_kolonlara_sayı_bul()          \n",
    "        sudaki_boşu_olan_satırlara_sayı_bul()\n",
    "        ola = np.array((ola_ki),dtype =set)\n",
    "        ola_lar()\n",
    "        for say in s:\n",
    "            hücre_durum_tazele(say)\n",
    "         \n",
    "    return\n",
    "    "
   ]
  },
  {
   "cell_type": "code",
   "execution_count": 30,
   "metadata": {
    "collapsed": false
   },
   "outputs": [],
   "source": [
    "#ikili ola şıklarından birini kendi seçip ilerleyecek\n",
    "def atarak_ilerle():\n",
    "    global su\n",
    "    global durum\n",
    "    global ola\n",
    "    global saklısu\n",
    "    global saklıdurum\n",
    "    global saklıola\n",
    "    \n",
    "    if sefer ==0:\n",
    "        saklısu= np.copy(su)#su'yu sakladık artık suyu değiştirsek de saklısu değişmez\n",
    "        saklıdurum = np.copy(durum)#durum'u sakladık\n",
    "        saklıola = np.copy(ola)#ola'yı sakladık\n",
    "    if sefer==1:\n",
    "        su=np.copy(saklısu)\n",
    "        durum=np.copy(saklıdurum)\n",
    "        ola=np.copy(saklıola)\n",
    "        \n",
    "    oladan_seç_suya_ekle()\n",
    "    \n",
    "    "
   ]
  },
  {
   "cell_type": "code",
   "execution_count": 31,
   "metadata": {
    "collapsed": false
   },
   "outputs": [],
   "source": [
    "# -- main  --\n",
    "def çöz():\n",
    "    \n",
    "    kaj=0\n",
    "    kaj_tut=0\n",
    "    bu_kaçıncı_aynı=0\n",
    "    for deneme in range (30):\n",
    "        çalış(30)\n",
    "        kaj=0  \n",
    "        \n",
    "        for say in s:        \n",
    "            kaj+=kaç_tane_çıktı(say)\n",
    "        if kaj==81 :\n",
    "            print(kaj)\n",
    "            return\n",
    "        if kaj_tut!=kaj:\n",
    "            kaj_tut=kaj\n",
    "        else:\n",
    "            bu_kaçıncı_aynı+=1\n",
    "        if bu_kaçıncı_aynı>2:\n",
    "            bu_kaçıncı_aynı=0\n",
    "            #print(kaj)\n",
    "            oladan_seç_suya_ekle()\n",
    "            #print(log)"
   ]
  },
  {
   "cell_type": "code",
   "execution_count": 32,
   "metadata": {
    "collapsed": false
   },
   "outputs": [
    {
     "name": "stdout",
     "output_type": "stream",
     "text": [
      "81.0\n"
     ]
    }
   ],
   "source": [
    "çöz()"
   ]
  },
  {
   "cell_type": "code",
   "execution_count": 33,
   "metadata": {
    "collapsed": false
   },
   "outputs": [
    {
     "data": {
      "text/plain": [
       "array([[2, 9, 8, 5, 4, 7, 3, 6, 1],\n",
       "       [4, 6, 7, 9, 3, 1, 5, 2, 8],\n",
       "       [3, 5, 1, 6, 2, 8, 4, 9, 7],\n",
       "       [6, 1, 9, 7, 5, 4, 8, 3, 2],\n",
       "       [5, 7, 3, 8, 9, 2, 1, 4, 6],\n",
       "       [8, 2, 4, 1, 6, 3, 7, 5, 9],\n",
       "       [7, 3, 5, 2, 8, 9, 6, 1, 4],\n",
       "       [1, 4, 2, 3, 7, 6, 9, 8, 5],\n",
       "       [9, 8, 6, 4, 1, 5, 2, 7, 3]])"
      ]
     },
     "execution_count": 33,
     "metadata": {},
     "output_type": "execute_result"
    }
   ],
   "source": [
    "su"
   ]
  },
  {
   "cell_type": "code",
   "execution_count": 34,
   "metadata": {
    "collapsed": false
   },
   "outputs": [
    {
     "name": "stdout",
     "output_type": "stream",
     "text": [
      "9.0\n",
      "9.0\n",
      "9.0\n",
      "9.0\n",
      "9.0\n",
      "9.0\n",
      "9.0\n",
      "9.0\n",
      "9.0\n",
      "81.0\n"
     ]
    }
   ],
   "source": [
    "t=0\n",
    "for say in s:        \n",
    "    kaj=kaç_tane_çıktı(say)\n",
    "    t+=kaj\n",
    "    print(kaj)\n",
    "print(t)"
   ]
  },
  {
   "cell_type": "code",
   "execution_count": 35,
   "metadata": {
    "collapsed": false
   },
   "outputs": [
    {
     "data": {
      "text/plain": [
       "array([[0, [6, 7, 9], 0, 0, [1, 4], [1, 7], [1, 3, 6, 9], 0, 0],\n",
       "       [[1, 4, 9], [6, 7], [1, 6, 7], [1, 4, 7, 9], 0, [1, 7, 8], [1, 5],\n",
       "        0, [1, 6, 8]],\n",
       "       [[1, 3, 9], 0, [1, 3], 0, [1, 2, 8], [1, 8], 0, [8, 9], 0],\n",
       "       [0, 0, 0, [4, 7], 0, [4, 7], 0, 0, [2, 4]],\n",
       "       [[3, 5], 0, 0, 0, 0, 0, 0, 0, 0],\n",
       "       [[3, 8], 0, 0, 0, [1, 6], [1, 3, 6], 0, 0, 0],\n",
       "       [0, [3, 6, 8], 0, [2, 3, 4], 0, 0, 0, 0, [4, 8]],\n",
       "       [0, 0, [1, 2, 3, 6], 0, 0, [6, 8], [5, 9], 0, [5, 8]],\n",
       "       [0, [6, 8], 0, 0, 0, 0, 0, [4, 7, 8, 9], 0]], dtype=object)"
      ]
     },
     "execution_count": 35,
     "metadata": {},
     "output_type": "execute_result"
    }
   ],
   "source": [
    "ola"
   ]
  },
  {
   "cell_type": "code",
   "execution_count": 36,
   "metadata": {
    "collapsed": false
   },
   "outputs": [
    {
     "data": {
      "text/plain": [
       "array([[2, 9, 8, 5, 4, 7, 3, 6, 1],\n",
       "       [4, 6, 7, 9, 3, 1, 5, 2, 8],\n",
       "       [3, 5, 1, 6, 2, 8, 4, 9, 7],\n",
       "       [6, 1, 9, 7, 5, 4, 8, 3, 2],\n",
       "       [5, 7, 3, 8, 9, 2, 1, 4, 6],\n",
       "       [8, 2, 4, 1, 6, 3, 7, 5, 9],\n",
       "       [7, 3, 5, 2, 8, 9, 6, 1, 4],\n",
       "       [1, 4, 2, 3, 7, 6, 9, 8, 5],\n",
       "       [9, 8, 6, 4, 1, 5, 2, 7, 3]])"
      ]
     },
     "execution_count": 36,
     "metadata": {},
     "output_type": "execute_result"
    }
   ],
   "source": [
    "su"
   ]
  },
  {
   "cell_type": "code",
   "execution_count": 37,
   "metadata": {
    "collapsed": false
   },
   "outputs": [
    {
     "data": {
      "text/plain": [
       "0"
      ]
     },
     "execution_count": 37,
     "metadata": {},
     "output_type": "execute_result"
    }
   ],
   "source": [
    "sefer"
   ]
  },
  {
   "cell_type": "code",
   "execution_count": 38,
   "metadata": {
    "collapsed": false
   },
   "outputs": [
    {
     "data": {
      "text/plain": [
       "array([[[ 0.,  0.,  0.,  0.,  0.,  0.,  0.,  0.,  1.],\n",
       "        [ 0.,  0.,  0.,  0.,  0.,  1.,  0.,  0.,  0.],\n",
       "        [ 0.,  0.,  1.,  0.,  0.,  0.,  0.,  0.,  0.],\n",
       "        [ 0.,  1.,  0.,  0.,  0.,  0.,  0.,  0.,  0.],\n",
       "        [ 0.,  0.,  0.,  0.,  0.,  0.,  1.,  0.,  0.],\n",
       "        [ 0.,  0.,  0.,  1.,  0.,  0.,  0.,  0.,  0.],\n",
       "        [ 0.,  0.,  0.,  0.,  0.,  0.,  0.,  1.,  0.],\n",
       "        [ 1.,  0.,  0.,  0.,  0.,  0.,  0.,  0.,  0.],\n",
       "        [ 0.,  0.,  0.,  0.,  1.,  0.,  0.,  0.,  0.]],\n",
       "\n",
       "       [[ 1.,  0.,  0.,  0.,  0.,  0.,  0.,  0.,  0.],\n",
       "        [ 0.,  0.,  0.,  0.,  0.,  0.,  0.,  1.,  0.],\n",
       "        [ 0.,  0.,  0.,  0.,  1.,  0.,  0.,  0.,  0.],\n",
       "        [ 0.,  0.,  0.,  0.,  0.,  0.,  0.,  0.,  1.],\n",
       "        [ 0.,  0.,  0.,  0.,  0.,  1.,  0.,  0.,  0.],\n",
       "        [ 0.,  1.,  0.,  0.,  0.,  0.,  0.,  0.,  0.],\n",
       "        [ 0.,  0.,  0.,  1.,  0.,  0.,  0.,  0.,  0.],\n",
       "        [ 0.,  0.,  1.,  0.,  0.,  0.,  0.,  0.,  0.],\n",
       "        [ 0.,  0.,  0.,  0.,  0.,  0.,  1.,  0.,  0.]],\n",
       "\n",
       "       [[ 0.,  0.,  0.,  0.,  0.,  0.,  1.,  0.,  0.],\n",
       "        [ 0.,  0.,  0.,  0.,  1.,  0.,  0.,  0.,  0.],\n",
       "        [ 1.,  0.,  0.,  0.,  0.,  0.,  0.,  0.,  0.],\n",
       "        [ 0.,  0.,  0.,  0.,  0.,  0.,  0.,  1.,  0.],\n",
       "        [ 0.,  0.,  1.,  0.,  0.,  0.,  0.,  0.,  0.],\n",
       "        [ 0.,  0.,  0.,  0.,  0.,  1.,  0.,  0.,  0.],\n",
       "        [ 0.,  1.,  0.,  0.,  0.,  0.,  0.,  0.,  0.],\n",
       "        [ 0.,  0.,  0.,  1.,  0.,  0.,  0.,  0.,  0.],\n",
       "        [ 0.,  0.,  0.,  0.,  0.,  0.,  0.,  0.,  1.]],\n",
       "\n",
       "       [[ 0.,  0.,  0.,  0.,  1.,  0.,  0.,  0.,  0.],\n",
       "        [ 1.,  0.,  0.,  0.,  0.,  0.,  0.,  0.,  0.],\n",
       "        [ 0.,  0.,  0.,  0.,  0.,  0.,  1.,  0.,  0.],\n",
       "        [ 0.,  0.,  0.,  0.,  0.,  1.,  0.,  0.,  0.],\n",
       "        [ 0.,  0.,  0.,  0.,  0.,  0.,  0.,  1.,  0.],\n",
       "        [ 0.,  0.,  1.,  0.,  0.,  0.,  0.,  0.,  0.],\n",
       "        [ 0.,  0.,  0.,  0.,  0.,  0.,  0.,  0.,  1.],\n",
       "        [ 0.,  1.,  0.,  0.,  0.,  0.,  0.,  0.,  0.],\n",
       "        [ 0.,  0.,  0.,  1.,  0.,  0.,  0.,  0.,  0.]],\n",
       "\n",
       "       [[ 0.,  0.,  0.,  1.,  0.,  0.,  0.,  0.,  0.],\n",
       "        [ 0.,  0.,  0.,  0.,  0.,  0.,  1.,  0.,  0.],\n",
       "        [ 0.,  1.,  0.,  0.,  0.,  0.,  0.,  0.,  0.],\n",
       "        [ 0.,  0.,  0.,  0.,  1.,  0.,  0.,  0.,  0.],\n",
       "        [ 1.,  0.,  0.,  0.,  0.,  0.,  0.,  0.,  0.],\n",
       "        [ 0.,  0.,  0.,  0.,  0.,  0.,  0.,  1.,  0.],\n",
       "        [ 0.,  0.,  1.,  0.,  0.,  0.,  0.,  0.,  0.],\n",
       "        [ 0.,  0.,  0.,  0.,  0.,  0.,  0.,  0.,  1.],\n",
       "        [ 0.,  0.,  0.,  0.,  0.,  1.,  0.,  0.,  0.]],\n",
       "\n",
       "       [[ 0.,  0.,  0.,  0.,  0.,  0.,  0.,  1.,  0.],\n",
       "        [ 0.,  1.,  0.,  0.,  0.,  0.,  0.,  0.,  0.],\n",
       "        [ 0.,  0.,  0.,  1.,  0.,  0.,  0.,  0.,  0.],\n",
       "        [ 1.,  0.,  0.,  0.,  0.,  0.,  0.,  0.,  0.],\n",
       "        [ 0.,  0.,  0.,  0.,  0.,  0.,  0.,  0.,  1.],\n",
       "        [ 0.,  0.,  0.,  0.,  1.,  0.,  0.,  0.,  0.],\n",
       "        [ 0.,  0.,  0.,  0.,  0.,  0.,  1.,  0.,  0.],\n",
       "        [ 0.,  0.,  0.,  0.,  0.,  1.,  0.,  0.,  0.],\n",
       "        [ 0.,  0.,  1.,  0.,  0.,  0.,  0.,  0.,  0.]],\n",
       "\n",
       "       [[ 0.,  0.,  0.,  0.,  0.,  1.,  0.,  0.,  0.],\n",
       "        [ 0.,  0.,  1.,  0.,  0.,  0.,  0.,  0.,  0.],\n",
       "        [ 0.,  0.,  0.,  0.,  0.,  0.,  0.,  0.,  1.],\n",
       "        [ 0.,  0.,  0.,  1.,  0.,  0.,  0.,  0.,  0.],\n",
       "        [ 0.,  1.,  0.,  0.,  0.,  0.,  0.,  0.,  0.],\n",
       "        [ 0.,  0.,  0.,  0.,  0.,  0.,  1.,  0.,  0.],\n",
       "        [ 1.,  0.,  0.,  0.,  0.,  0.,  0.,  0.,  0.],\n",
       "        [ 0.,  0.,  0.,  0.,  1.,  0.,  0.,  0.,  0.],\n",
       "        [ 0.,  0.,  0.,  0.,  0.,  0.,  0.,  1.,  0.]],\n",
       "\n",
       "       [[ 0.,  0.,  1.,  0.,  0.,  0.,  0.,  0.,  0.],\n",
       "        [ 0.,  0.,  0.,  0.,  0.,  0.,  0.,  0.,  1.],\n",
       "        [ 0.,  0.,  0.,  0.,  0.,  1.,  0.,  0.,  0.],\n",
       "        [ 0.,  0.,  0.,  0.,  0.,  0.,  1.,  0.,  0.],\n",
       "        [ 0.,  0.,  0.,  1.,  0.,  0.,  0.,  0.,  0.],\n",
       "        [ 1.,  0.,  0.,  0.,  0.,  0.,  0.,  0.,  0.],\n",
       "        [ 0.,  0.,  0.,  0.,  1.,  0.,  0.,  0.,  0.],\n",
       "        [ 0.,  0.,  0.,  0.,  0.,  0.,  0.,  1.,  0.],\n",
       "        [ 0.,  1.,  0.,  0.,  0.,  0.,  0.,  0.,  0.]],\n",
       "\n",
       "       [[ 0.,  1.,  0.,  0.,  0.,  0.,  0.,  0.,  0.],\n",
       "        [ 0.,  0.,  0.,  1.,  0.,  0.,  0.,  0.,  0.],\n",
       "        [ 0.,  0.,  0.,  0.,  0.,  0.,  0.,  1.,  0.],\n",
       "        [ 0.,  0.,  1.,  0.,  0.,  0.,  0.,  0.,  0.],\n",
       "        [ 0.,  0.,  0.,  0.,  1.,  0.,  0.,  0.,  0.],\n",
       "        [ 0.,  0.,  0.,  0.,  0.,  0.,  0.,  0.,  1.],\n",
       "        [ 0.,  0.,  0.,  0.,  0.,  1.,  0.,  0.,  0.],\n",
       "        [ 0.,  0.,  0.,  0.,  0.,  0.,  1.,  0.,  0.],\n",
       "        [ 1.,  0.,  0.,  0.,  0.,  0.,  0.,  0.,  0.]]])"
      ]
     },
     "execution_count": 38,
     "metadata": {},
     "output_type": "execute_result"
    }
   ],
   "source": [
    "durum"
   ]
  },
  {
   "cell_type": "code",
   "execution_count": null,
   "metadata": {
    "collapsed": true
   },
   "outputs": [],
   "source": []
  }
 ],
 "metadata": {
  "kernelspec": {
   "display_name": "Python 3",
   "language": "python",
   "name": "python3"
  },
  "language_info": {
   "codemirror_mode": {
    "name": "ipython",
    "version": 3
   },
   "file_extension": ".py",
   "mimetype": "text/x-python",
   "name": "python",
   "nbconvert_exporter": "python",
   "pygments_lexer": "ipython3",
   "version": "3.6.0"
  }
 },
 "nbformat": 4,
 "nbformat_minor": 2
}
